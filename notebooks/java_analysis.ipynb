{
 "cells": [
  {
   "cell_type": "markdown",
   "metadata": {},
   "source": [
    "这是一个使用CodeFuse-Query分析java项目的教程。在教程中，你将体验到使用命令行工具对代码仓库进行数据化，然后使用Godel语言来分析这个仓库。"
   ]
  },
  {
   "cell_type": "markdown",
   "metadata": {},
   "source": [
    "STEP 0: 克隆要分析的仓库。我们以蚂蚁集团的 SOFABolt 项目为例。"
   ]
  },
  {
   "cell_type": "code",
   "execution_count": 1,
   "metadata": {
    "ExecuteTime": {
     "end_time": "2023-11-22T08:26:36.309071Z",
     "start_time": "2023-11-22T08:26:30.912385Z"
    }
   },
   "outputs": [
    {
     "name": "stdout",
     "output_type": "stream",
     "text": [
      "Cloning into 'sofa-bolt'...\r\n",
      "remote: Enumerating objects: 3378, done.\u001B[K\r\n",
      "remote: Counting objects: 100% (229/229), done.\u001B[K\r\n",
      "remote: Compressing objects: 100% (166/166), done.\u001B[K\r\n",
      "remote: Total 3378 (delta 69), reused 43 (delta 6), pack-reused 3149\u001B[K\r\n",
      "Receiving objects: 100% (3378/3378), 1.03 MiB | 447.00 KiB/s, done.\r\n",
      "Resolving deltas: 100% (1794/1794), done.\r\n",
      "Updating files: 100% (325/325), done.\r\n"
     ]
    }
   ],
   "source": [
    "!git clone https://gitee.com/sofastack/sofa-bolt.git"
   ]
  },
  {
   "cell_type": "markdown",
   "metadata": {},
   "source": [
    "STEP 1: 代码数据化。使用 `sparrow database create` 命令创建一个db文件，需要指定待分析的仓库地址，分析的语言，以及db文件的存储路径。该文件存储着代码仓库的结构化数据，之后的分析就是针对这份数据进行。"
   ]
  },
  {
   "cell_type": "code",
   "execution_count": 2,
   "metadata": {
    "ExecuteTime": {
     "end_time": "2023-11-22T08:27:51.815984Z",
     "start_time": "2023-11-22T08:27:50.120436Z"
    }
   },
   "outputs": [
    {
     "name": "stdout",
     "output_type": "stream",
     "text": [
      "\u001B[31m\u001B[1mMissing required option: '--data-type=<type>'\u001B[21m\u001B[39m\u001B[0m\r\n",
      "\r\n",
      "Usage:\r\n",
      "\r\n",
      "\u001B[1msparrow database create\u001B[21m\u001B[0m [\u001B[33m-C\u001B[39m\u001B[0m=\u001B[3m<file>\u001B[23m\u001B[0m] [\u001B[33m-log\u001B[39m\u001B[0m=\u001B[3m<level>\u001B[23m\u001B[0m] [\u001B[33m-s\u001B[39m\u001B[0m=\u001B[3m<dir>\u001B[23m\u001B[0m] [\u001B[33m-c\u001B[39m\u001B[0m=\u001B[3m<item>\u001B[23m\u001B[0m]...\r\n",
      "                        \u001B[33m-t\u001B[39m\u001B[0m=\u001B[3m<type>\u001B[23m\u001B[0m[,\u001B[3m<type>\u001B[23m\u001B[0m...] [\u001B[33m-t\u001B[39m\u001B[0m=\u001B[3m<type>\u001B[23m\u001B[0m[,\u001B[3m<type>\u001B[23m\u001B[0m...]]...\r\n",
      "                        \u001B[33m<database>\u001B[39m\u001B[0m\r\n",
      "\r\n",
      "Description:\r\n",
      "\r\n",
      "Create a COREF database for a source tree that can be analyzed by sparrow\r\n",
      "\r\n",
      "Parameters:\r\n",
      "\r\n",
      "\u001B[33m \u001B[39m\u001B[0m     \u001B[33m<database>\u001B[39m\u001B[0m            Path to the COREF database to create. This\r\n",
      "                              directory will be created, and must not already\r\n",
      "                              exist\r\n",
      "\r\n",
      "Options:\r\n",
      "\r\n",
      "  \u001B[33m-c\u001B[39m\u001B[0m, \u001B[33m--extraction-config\u001B[39m\u001B[0m=\u001B[3m<\u001B[23m\u001B[0m\u001B[3mitem>\u001B[23m\u001B[0m\r\n",
      "                            Extraction config, -c c1=xx1 -c c2=xx2,xx3\r\n",
      "                             Examples of how config items are parsed:\r\n",
      "                             1.java.cp=/Users/xxx/.\r\n",
      "                              m2/repository/com/google/code/gson/gson/2.\r\n",
      "                              10/gson-2.10.jar\r\n",
      "                             cp=/Users/xxx/.\r\n",
      "                              m2/repository/com/google/code/gson/gson/2.\r\n",
      "                              10/gson-2.10.jar will be passed to the java\r\n",
      "                              extractor\r\n",
      "                             2. java.white-list=balabala1\r\n",
      "                             Will pass white-list=balabala1 to the java\r\n",
      "                              extractor\r\n",
      "                             3. go.extract-config=balabala2,bb1,bb2=cc1\r\n",
      "                             will pass extract-config=balabala2,bb1,bb2=cc1 to\r\n",
      "                              the go extractor\r\n",
      "                             4. python.white-list=balabala1\r\n",
      "                             Will pass white-list=balabala1 to the python\r\n",
      "                              extractor\r\n",
      "                             5. all.white-list=balabala1\r\n",
      "                             will pass white-list=balabala1 to all extractors\r\n",
      "                             6. Whitelist=balabala1\r\n",
      "                             will pass white-list=balabala1 to all extractors\r\n",
      "                             Other extractors, like\r\n",
      "                              javascript/cfamily/python/swift, etc. are also\r\n",
      "                              passed in in a similar way.  Each extractor needs\r\n",
      "                              to traverse and deal with them one by one for\r\n",
      "                              List<ConfigPair before calling.\r\n",
      "\r\n",
      "  \u001B[33m-C\u001B[39m\u001B[0m, \u001B[33m--extraction-config-f\u001B[39m\u001B[0m\u001B[33mile\u001B[39m\u001B[0m=\u001B[3m<file>\u001B[23m\u001B[0m\r\n",
      "                            Extraction config file path (A json file):\r\n",
      "                            Examples of a valid value of jsonFile:\r\n",
      "                             1. ./extract_option.json\r\n",
      "                             extract_option.json in the current working\r\n",
      "                              directory as the configuration file\r\n",
      "                             2.\r\n",
      "                              /User/xxx/work/dev/sparrow-cli/test/extract_option\r\n",
      "                              .json\r\n",
      "                             extract_option.json in the\r\n",
      "                              /User/xxx/work/dev/sparrow-cli/test directory is\r\n",
      "                              used as the configuration file\r\n",
      "      \u001B[33m-log, --log-level\u001B[39m\u001B[0m=\u001B[3m<le\u001B[23m\u001B[0m\u001B[3mvel>\u001B[23m\u001B[0m\r\n",
      "                            Select log level. Choices include \u001B[33mOFF\u001B[39m\u001B[0m , \u001B[33mFATAL\u001B[39m\u001B[0m ,\r\n",
      "                              \u001B[33mERROR\u001B[39m\u001B[0m (default) ,\u001B[33mWARN\u001B[39m\u001B[0m,\u001B[33mINFO\u001B[39m\u001B[0m,\u001B[33mDEBUG\u001B[39m\u001B[0m,\u001B[33mTRACE\u001B[39m\u001B[0m,and \u001B[33mALL\u001B[39m\u001B[0m.\"\r\n",
      "  \u001B[33m-s\u001B[39m\u001B[0m, \u001B[33m--source-root\u001B[39m\u001B[0m=\u001B[3m<dir>\u001B[23m\u001B[0m   Select source root,default to current directory\r\n",
      "\u001B[33m \u001B[39m\u001B[0m \u001B[33m-t\u001B[39m\u001B[0m, \u001B[33m--data-type\u001B[39m\u001B[0m=\u001B[3m<type>\u001B[23m\u001B[0m[,\u001B[3m<\u001B[23m\u001B[0m\u001B[3mtype>\u001B[23m\u001B[0m...]\r\n",
      "                            data type to extractor\r\n"
     ]
    }
   ],
   "source": [
    "!sparrow database create --source-root sofa-bolt --data-language-type java --output ./db/sofa-bolt"
   ]
  },
  {
   "cell_type": "markdown",
   "metadata": {},
   "source": [
    "STEP 2: 使用Godel分析语言分析db文件。在本教程中，可以点击代码左侧的执行按钮，直接运行分析脚本。在命令行中，你可以使用 `sparrow query run` 命令来执行查询脚本，具体可以使用`sparrow query run -h` 来获取详细参数信息。"
   ]
  },
  {
   "cell_type": "code",
   "execution_count": 2,
   "metadata": {},
   "outputs": [],
   "source": [
    "!export PATH=/Users/zhou/.sdkman/candidates/maven/current/bin:/Users/zhou/.sdkman/candidates/java/current/bin:/Users/zhou/.nvm/versions/node/v20.8.1/bin:/Users/zhou/miniconda3/bin:/Users/zhou/miniconda3/condabin:/opt/homebrew/bin:/opt/homebrew/sbin:/usr/local/bin:/System/Cryptexes/App/usr/bin:/usr/bin:/bin:/usr/sbin:/sbin:/Library/Apple/usr/bin:/Users/zhou/Library/Application\\ Support/JetBrains/Toolbox/scripts:/Users/zhou/Documents/project/sparrow-cli-dist/sparrow-cli"
   ]
  },
  {
   "cell_type": "code",
   "execution_count": 9,
   "metadata": {},
   "outputs": [
    {
     "name": "stdout",
     "output_type": "stream",
     "text": [
      "/Users/zhou/Documents/project/sparrow-cli-dist/sparrow-cli/sparrow\n"
     ]
    }
   ],
   "source": [
    "!which sparrow"
   ]
  },
  {
   "cell_type": "code",
   "execution_count": null,
   "metadata": {
    "is_executing": true
   },
   "outputs": [],
   "source": [
    "%db db/sofa-bolt\n",
    "// script\n",
    "use coref::java::{Callable, Class, Interface, JavaDB}\n",
    "\n",
    "fn db() -> JavaDB {\n",
    "    return JavaDB::load(\"coref_java_src.db\")\n",
    "}\n",
    "\n",
    "query class_method from\n",
    "    m in Callable(db()),\n",
    "    c in Class(db())\n",
    "where\n",
    "    c.id = m.getBelongedClass().id\n",
    "select\n",
    "    c.getQualifiedName() as className,\n",
    "    m.getName() as methodName,\n",
    "    m.getSignature() as methodSignature\n",
    "\n",
    "\n",
    "query interface_method from\n",
    "    m in Callable(db()),\n",
    "    i in Interface(db())\n",
    "where\n",
    "    i = m.getBelongedInterface()\n",
    "select\n",
    "    i.getQualifiedName() as className,\n",
    "    m.getName() as methodName,\n",
    "    m.getSignature() as methodSignature\n"
   ]
  },
  {
   "cell_type": "code",
   "execution_count": null,
   "outputs": [],
   "source": [],
   "metadata": {
    "collapsed": false
   }
  }
 ],
 "metadata": {
  "kernelspec": {
   "name": "python3",
   "language": "python",
   "display_name": "Python 3 (ipykernel)"
  },
  "language_info": {
   "file_extension": ".gdl",
   "help_links": [
    {
     "text": "Godel kernel Magics",
     "url": "https://sparrow.alipay.com"
    }
   ],
   "mimetype": "text/rust",
   "name": "rust",
   "version": "0.0.3"
  }
 },
 "nbformat": 4,
 "nbformat_minor": 2
}
