{
 "cells": [
  {
   "cell_type": "markdown",
   "metadata": {},
   "source": [
    "这是一个使用CodeFuse-Query分析java项目的教程。在教程中，你将体验到使用命令行工具对代码仓库进行数据化，然后使用Godel语言来分析这个仓库。"
   ]
  },
  {
   "cell_type": "markdown",
   "metadata": {},
   "source": [
    "STEP 0: 克隆要分析的仓库。我们以蚂蚁集团的 SOFABolt 项目为例。"
   ]
  },
  {
   "cell_type": "code",
   "execution_count": null,
   "metadata": {
    "ExecuteTime": {
     "end_time": "2023-11-22T08:26:36.309071Z",
     "start_time": "2023-11-22T08:26:30.912385Z"
    }
   },
   "outputs": [],
   "source": [
    "!git clone https://gitee.com/sofastack/sofa-bolt.git"
   ]
  },
  {
   "cell_type": "markdown",
   "metadata": {},
   "source": [
    "STEP 1: 代码数据化。使用 `sparrow database create` 命令创建一个db文件，需要指定待分析的仓库地址，分析的语言，以及db文件的存储路径。该文件存储着代码仓库的结构化数据，之后的分析就是针对这份数据进行。"
   ]
  },
  {
   "cell_type": "code",
   "execution_count": null,
   "metadata": {
    "ExecuteTime": {
     "end_time": "2023-11-22T08:27:51.815984Z",
     "start_time": "2023-11-22T08:27:50.120436Z"
    }
   },
   "outputs": [],
   "source": [
    "!sparrow database create --source-root sofa-bolt --data-language-type java --output ./db/sofa-bolt"
   ]
  },
  {
   "cell_type": "markdown",
   "metadata": {},
   "source": [
    "STEP 2: 使用Godel分析语言分析db文件。在本教程中，可以点击代码左侧的执行按钮，直接运行分析脚本。在命令行中，你可以使用 `sparrow query run` 命令来执行查询脚本，具体可以使用`sparrow query run -h` 来获取详细参数信息。"
   ]
  },
  {
   "cell_type": "code",
   "execution_count": null,
   "metadata": {},
   "outputs": [],
   "source": [
    "!which sparrow"
   ]
  },
  {
   "cell_type": "code",
   "execution_count": null,
   "metadata": {
    "is_executing": true
   },
   "outputs": [],
   "source": [
    "%db db/sofa-bolt\n",
    "// script\n",
    "use coref::java::{Callable, Class, Interface, JavaDB}\n",
    "\n",
    "fn db() -> JavaDB {\n",
    "    return JavaDB::load(\"coref_java_src.db\")\n",
    "}\n",
    "\n",
    "query class_method from\n",
    "    m in Callable(db()),\n",
    "    c in Class(db())\n",
    "where\n",
    "    c.id = m.getBelongedClass().id\n",
    "select\n",
    "    c.getQualifiedName() as className,\n",
    "    m.getName() as methodName,\n",
    "    m.getSignature() as methodSignature\n",
    "\n",
    "\n",
    "query interface_method from\n",
    "    m in Callable(db()),\n",
    "    i in Interface(db())\n",
    "where\n",
    "    i = m.getBelongedInterface()\n",
    "select\n",
    "    i.getQualifiedName() as className,\n",
    "    m.getName() as methodName,\n",
    "    m.getSignature() as methodSignature\n"
   ]
  },
  {
   "cell_type": "code",
   "execution_count": null,
   "metadata": {
    "collapsed": false
   },
   "outputs": [],
   "source": []
  }
 ],
 "metadata": {
  "kernelspec": {
   "display_name": "Godel kernel",
   "language": "rust",
   "name": "godel-jupyter"
  },
  "language_info": {
   "file_extension": ".gdl",
   "help_links": [
    {
     "text": "Godel kernel Magics",
     "url": "https://sparrow.alipay.com"
    }
   ],
   "mimetype": "text/rust",
   "name": "rust",
   "version": "0.0.3"
  }
 },
 "nbformat": 4,
 "nbformat_minor": 2
}
